{
 "cells": [
  {
   "cell_type": "code",
   "execution_count": 2,
   "metadata": {},
   "outputs": [],
   "source": [
    "import time\n",
    "import random\n",
    "from selenium import webdriver\n",
    "from selenium.webdriver.chrome.options import Options\n",
    "from selenium.webdriver.chrome.service import Service\n",
    "from webdriver_manager.chrome import ChromeDriverManager\n",
    "from selenium.webdriver.common.keys import Keys\n",
    "from selenium.webdriver.common.by import By\n",
    "from bs4 import BeautifulSoup as bs\n",
    "import pandas as pd\n",
    "# from tqdm import tqdm\n",
    "import urllib.request\n",
    "import requests\n",
    "import os"
   ]
  },
  {
   "cell_type": "code",
   "execution_count": 52,
   "metadata": {},
   "outputs": [],
   "source": [
    "options=Options()\n",
    "options.add_experimental_option('detach',True) #화면이 꺼지지 않고 유지\n",
    "options.add_argument('--start-maximized') # 화면을 최대화\n",
    "service=Service(ChromeDriverManager().install()) #크롬드라이버 자동 설치\n",
    "\n",
    "# driver=webdriver.Chrome(service=service, options=options)\n",
    "df = pd.read_csv('./1페이지_국내여행.csv')\n",
    "driver = webdriver.Chrome(service=service, options=options)\n",
    "\n",
    "res=[]\n",
    "for i in df['링크']:\n",
    "    driver.get(i)\n",
    "    time.sleep(2)\n",
    "    iframe=driver.find_element(By.ID,'mainFrame')\n",
    "    driver.switch_to.frame(iframe)\n",
    "    tmp = driver.find_element(By.CSS_SELECTOR,'div.se-viewer.se-theme-default').text\n",
    "    res.append(tmp)\n",
    "driver.quit()\n"
   ]
  },
  {
   "cell_type": "code",
   "execution_count": 53,
   "metadata": {},
   "outputs": [
    {
     "data": {
      "text/plain": [
       "'마인드셋\\n자산가를 위한 첫 걸음 - 경매 국내여행 시작\\n지여행 ・ 2024. 8. 23. 18:24\\nURL 복사 이웃추가\\n본문 기타 기능\\n자산가를 위한 첫 걸음 - 경매 국내여행 시작\\n하루 빨리 퇴사는 하고 싶은데 소득이 끊기는 불안감에 실행은 하지 못한 채 어정쩡한 불만감을 가진채로 회사생활과 퇴사 후 본격적으로 해보고 싶은 일을 병행한지가 몇 년째.\\n같은 시기 시작한 분들 중 실행력있고, 추진력있는 분들은 벌써 진도를 나가고 있는데, 나는 시도하는 시늉만 내다가 결국 바쁜 회사일에 주저앉아 버리고 늘 제자리에 있었던지가 몇 년째다. 그런 답답함이 있던 와중에 올해 초 정말 안되겠다, 회사를 나가고 싶은 간절한 마음에 다시 시작한 것이 당자쌤의 경매 중급반이었다.\\n경매 초급반을 수료하고, 바쁜 회사일을 핑계로 일년 넘게 경매수업을 듣지 못하다가 시작한 것이다. 그러고 나서도 중급반은 제대로 듣지도 못하고, 과제 제출도 못했는데 중급반 마지막 수업인 법원 경매 견학은 꼭 가야겠다 싶어서 갔었는데, 그 때 \"아! 이게 나랑 너무 잘 맞겠다\"는 생각, 하면서 너무 재미있을 것 같다는 생각을 하게 되어 다소 부담되었던 경매 고급반 수강료에도 바로 이어서 끊었다.\\n첫 경매법정 견학 - 기일입찰표 작성과 경매 입찰법정 분위기\\n부동산 경매 첫걸음 경매법정 견학기 기일입찰표 작성하기 경매 입찰법정 분위기 이렇게 좋은 날, 평생을 ...\\nblog.naver.com\\n고급반 수업도 과제 제출을 못한적이 몇 주 있었지만 수강생들 중에서 실제 낙찰을 받은 분도 나오고, 명도협의에 매도까지 하는 걸 실제 목격하면서 계속 자극을 받고 나도 해야겠다고 마음 먹었던 것을 드디어 실행으로 옮기게 되었다.\\n지방까지 꼭 직접 입찰을 가지 않아도 되지만 첫 입찰만큼은 꼭 현장에서 감을 느끼고 싶어서 그렇게 나의 1박 2일 경매 국내 여행이 시작되었다.\\n입찰 후에 그 지역에 유명한 맛집도 다니고 하면서 경매를 여행한다 생각하고 다니세요.\\n당자쌤이 수업에서 종종 했던 얘기다. 예전에는 해외여행을 좋아라 하는 소비형 인간이었는데, 이제는 자산가에 한발자국 다가가기 위한 경매 여행을 시작한 것이다.\\n누군가는 뚜벅이로 이렇게 오가는 과정이 지치고, 피곤하다고 생각할지도 모르지만 낯선 곳을 찾아가는 데 즐거움을 느끼는 성격이라 그런지 이렇게 기차타고 버스노선을 검색해서 가는 과정이 너무 즐거웠다. 왠지 여행 온 것같은 묘한 기분을 느끼면서 경매가 퇴사 후 내게 잘 맞을 것 같다는 기분 좋은 설레임을 마음껏 즐겼다.\\n자산가를 위한 첫 걸음 - 경매 국내여행 시작\\n나의 실제 첫 경매 입찰의 장소가 되었던 울산 지방법원.\\n그래도 지난 중급반에서 한번 인천지법 견학을 해봤어서 그런지 법원 온 것 자체에 대한 낯섬은 덜했는데, 막상 입찰표 작성하고 하려다보니 수업 때 들었던 게 긴가민가 헷깔려서 제대로 입찰가를 썼는지 불안불안했더라는. ㅎㅎ\\n자산가를 위한 첫 걸음 - 경매 국내여행 시작\\n너무 감사하게도 함께 고급반 수업을 듣는 수강생분 중에 울산에 거주하고 계셔서 나의 첫 입찰을 응원하러 법원까지 나와주셨다. 너무 감사한 일.\\n좋은 기운을 받아서 그런지 내가 첫 입찰했던 물건은 2등을 했다. 첫 입찰만에 낙찰을 기대한 것이 아니었기 때문에 이렇게 2등으로 첫 테이프를 끊은 것만으로도 얼마나 기쁘던지!!\\n함께 점심을 먹고 분위기 좋은 카페에서 커피 한잔을 하다가 느낀건데 세상에 서로 쓰고 있는 체크카드가 똑같은거다. 역시 관심사가 재테크로 비슷한 사람들끼리는 이렇게 혜택 좋은 카드로 수렴되는구나 느끼는 시간이었다. 왜 관심사가 같은 사람으로 내 주변의 환경을 세팅하는게 중요한지 새삼 느꼈다.\\n케이패스 교통카드 - 체크카드 환급 혜택 좋은 케이뱅크 추천\\n케이패스 교통카드 케이패스 체크카드 케이뱅크 추천 뚜벅이 직장인이라면 무조건 소지해야 할 K패스! (구...\\nblog.naver.com\\n한참 주변에서 이거 쓰는 사람 처음 봤다면서 깔깔깔깔 웃고, 언제쯤 우리는 낙찰 받아서 메달을 달 수 있을까 이런저런 얘기를 하면서 시간을 보냈다. 온라인에서만 만나고 실제 얼굴보는 것은 처음인데도 관심사가 같아서였을까? 시간 가는줄 모르고 수다 삼매경을 보냈다는.\\n자산가를 위한 첫 걸음 - 경매 국내여행 시작\\n울산에서의 첫 입찰 여행을 마치고 창원 마산으로 이동했다. 버스를 내리자마자 길건너에 있는 로또 1등 5번이나 당첨했다는 복권집이 있길래 마산같은 작은 도시에서 5번이나 1등을 했다니 안 살 수가 없는 거다.\\n신이나서 바로 달려가서 로또를 한번 구매해봤다. 혹시 모르지, 경매가 아니라 로또 1등으로 자신있게 퇴사하고 퇴사 이후의 삶을 시작할 수 있는 토대가 되어 줄지도... ㅎㅎㅎ(이 포스팅은 제발 성지글이 되어라!!)\\n자산가를 위한 첫 걸음 - 경매 국내여행 시작\\n경매 한다고 매번 물건지를 찾아가는 것은 아니지만 이번에는 이동하고 시간이 좀 남아서 현지 물건지도 가보고 인근 부동산 탐문도 할 수 있었다.\\n자산가를 위한 첫 걸음 - 경매 국내여행 시작\\n보고서를 준비할 때 보다는 영 외관으로 보이는 매물 상태나 부동산 분위기도 좋지 않아서 입찰을 해야 하나 고민은 있었지만 그래도 온 김에 경험삼아 입찰은 하되, 낙찰되더라도 후회없을 정도의 만만한 가격으로 입찰해야 겠다고 생각했다.\\n경매여행 둘째 날 찾은 법원은 창원지법의 분소 같은 지원이라서 그런지 규모도 작고 법정도 작았다. 너무 아쉽게도 내 예측과는 다르게 매물에 입찰자도 그날 있던 경매 중에서 가장 많았고, 금액도 내 상상 이상으로 너무 높은 금액으로 낙찰을 받아 갔지만... 이런 것도 경험이다 생각하기로 했다.\\n자산가를 위한 첫 걸음 - 경매 국내여행 시작\\n결국 다시 서울로 돌아오는 길.\\n1박 2일의 경매여행 이틀간 2곳의 법원을 경험하고 2건의 입찰을 경험하면서 그만큼의 경험치를 쌓아간다. 실제 해보니, 이렇게 국내 여러곳을 돌아다니면서 여행다니듯이 경매를 업삼아서 해봐도 재미있겠다는 생각을 했다.\\n자산가를 위한 첫 걸음 - 경매 국내여행 시작\\n지금은 작은 시드로 아파트 단타만 노리지만 나중에는 다가구 건물을 낙찰받아 임대쪽으로도 가볼 수 있을 것이고. 또 그러다가 나중에는 단독주택을 낙찰받아 에어비앤비로 여행자를 맞이하는 호스트의 삶을 기대해볼 수도 있을 것 같다.\\n경매로의 자산가로의 첫 걸음을 내밀었던 1박 2일간의 국내여행! 낙찰과 명도, 매도의 과정들도 차곡차곡 담겨갈 수 있도록 더 부지런히 움직여봐야겠다.'"
      ]
     },
     "execution_count": 53,
     "metadata": {},
     "output_type": "execute_result"
    }
   ],
   "source": [
    "res[-1]"
   ]
  },
  {
   "cell_type": "code",
   "execution_count": 55,
   "metadata": {},
   "outputs": [],
   "source": [
    "df.to_csv('국내여행_블로그_본문포함.csv')"
   ]
  },
  {
   "cell_type": "code",
   "execution_count": 49,
   "metadata": {},
   "outputs": [
    {
     "data": {
      "text/html": [
       "<div>\n",
       "<style scoped>\n",
       "    .dataframe tbody tr th:only-of-type {\n",
       "        vertical-align: middle;\n",
       "    }\n",
       "\n",
       "    .dataframe tbody tr th {\n",
       "        vertical-align: top;\n",
       "    }\n",
       "\n",
       "    .dataframe thead th {\n",
       "        text-align: right;\n",
       "    }\n",
       "</style>\n",
       "<table border=\"1\" class=\"dataframe\">\n",
       "  <thead>\n",
       "    <tr style=\"text-align: right;\">\n",
       "      <th></th>\n",
       "      <th>Unnamed: 0</th>\n",
       "      <th>제목</th>\n",
       "      <th>링크</th>\n",
       "      <th>본분</th>\n",
       "      <th>본문</th>\n",
       "    </tr>\n",
       "  </thead>\n",
       "  <tbody>\n",
       "    <tr>\n",
       "      <th>0</th>\n",
       "      <td>0</td>\n",
       "      <td>국내여행코스 울릉도 여행 둘째날 버스투어 A코스 관광</td>\n",
       "      <td>https://blog.naver.com/piil/223596761973</td>\n",
       "      <td>경상도\\n국내여행코스 울릉도 여행 둘째날 버스투어 A코스 관광\\n세상구경꾼 필 ・ ...</td>\n",
       "      <td>경상도\\n국내여행코스 울릉도 여행 둘째날 버스투어 A코스 관광\\n세상구경꾼 필 ・ ...</td>\n",
       "    </tr>\n",
       "    <tr>\n",
       "      <th>1</th>\n",
       "      <td>1</td>\n",
       "      <td>국내여행 무주 창고 대형 카페</td>\n",
       "      <td>https://blog.naver.com/dorothy_bet/223591417000</td>\n",
       "      <td>전라도\\n국내여행 무주 창고 대형 카페\\n비현 ・ 2024. 9. 21. 20:50...</td>\n",
       "      <td>전라도\\n국내여행 무주 창고 대형 카페\\n비현 ・ 2024. 9. 21. 20:50...</td>\n",
       "    </tr>\n",
       "    <tr>\n",
       "      <th>2</th>\n",
       "      <td>2</td>\n",
       "      <td>10월 국내여행 가볼만한곳 충남 공주 부여 백제문화제</td>\n",
       "      <td>https://blog.naver.com/sm011sm/223603389561</td>\n",
       "      <td>충청도\\n10월 국내여행 가볼만한곳 충남 공주 부여 백제문화제\\n힌둥이 ・ 2024...</td>\n",
       "      <td>충청도\\n10월 국내여행 가볼만한곳 충남 공주 부여 백제문화제\\n힌둥이 ・ 2024...</td>\n",
       "    </tr>\n",
       "    <tr>\n",
       "      <th>3</th>\n",
       "      <td>3</td>\n",
       "      <td>[국내여행] 나홀로 목포_해상케이블카 시간 팁!</td>\n",
       "      <td>https://blog.naver.com/sssel_123/223609239066</td>\n",
       "      <td>여행 기록\\n[국내여행] 나홀로 목포_해상케이블카 시간 팁!\\nLittle Fore...</td>\n",
       "      <td>여행 기록\\n[국내여행] 나홀로 목포_해상케이블카 시간 팁!\\nLittle Fore...</td>\n",
       "    </tr>\n",
       "    <tr>\n",
       "      <th>4</th>\n",
       "      <td>4</td>\n",
       "      <td>영주 반띵관광택시 로이쿠 지원할인 받아 국내여행 가볼만한곳</td>\n",
       "      <td>https://blog.naver.com/lemon8363/223582041842</td>\n",
       "      <td>여행가요♩\\n영주 반띵관광택시 로이쿠 지원할인 받아 국내여행 가볼만한곳\\n봉봉츄 ・...</td>\n",
       "      <td>여행가요♩\\n영주 반띵관광택시 로이쿠 지원할인 받아 국내여행 가볼만한곳\\n봉봉츄 ・...</td>\n",
       "    </tr>\n",
       "    <tr>\n",
       "      <th>5</th>\n",
       "      <td>5</td>\n",
       "      <td>롤리키드 캐리어 가격 착한 국내 여행가방</td>\n",
       "      <td>https://blog.naver.com/lim265/223570345206</td>\n",
       "      <td>전라도\\n롤리키드 캐리어 가격 착한 국내 여행가방\\n임정은 ・ 2024. 9. 3....</td>\n",
       "      <td>전라도\\n롤리키드 캐리어 가격 착한 국내 여행가방\\n임정은 ・ 2024. 9. 3....</td>\n",
       "    </tr>\n",
       "    <tr>\n",
       "      <th>6</th>\n",
       "      <td>6</td>\n",
       "      <td>자산가를 위한 첫 걸음 - 경매 국내여행 시작</td>\n",
       "      <td>https://blog.naver.com/realaroa/223558388651</td>\n",
       "      <td>마인드셋\\n자산가를 위한 첫 걸음 - 경매 국내여행 시작\\n지여행 ・ 2024. 8...</td>\n",
       "      <td>마인드셋\\n자산가를 위한 첫 걸음 - 경매 국내여행 시작\\n지여행 ・ 2024. 8...</td>\n",
       "    </tr>\n",
       "  </tbody>\n",
       "</table>\n",
       "</div>"
      ],
      "text/plain": [
       "   Unnamed: 0                                제목  \\\n",
       "0           0     국내여행코스 울릉도 여행 둘째날 버스투어 A코스 관광   \n",
       "1           1                  국내여행 무주 창고 대형 카페   \n",
       "2           2     10월 국내여행 가볼만한곳 충남 공주 부여 백제문화제   \n",
       "3           3        [국내여행] 나홀로 목포_해상케이블카 시간 팁!   \n",
       "4           4  영주 반띵관광택시 로이쿠 지원할인 받아 국내여행 가볼만한곳   \n",
       "5           5            롤리키드 캐리어 가격 착한 국내 여행가방   \n",
       "6           6         자산가를 위한 첫 걸음 - 경매 국내여행 시작   \n",
       "\n",
       "                                                링크  \\\n",
       "0         https://blog.naver.com/piil/223596761973   \n",
       "1  https://blog.naver.com/dorothy_bet/223591417000   \n",
       "2      https://blog.naver.com/sm011sm/223603389561   \n",
       "3    https://blog.naver.com/sssel_123/223609239066   \n",
       "4    https://blog.naver.com/lemon8363/223582041842   \n",
       "5       https://blog.naver.com/lim265/223570345206   \n",
       "6     https://blog.naver.com/realaroa/223558388651   \n",
       "\n",
       "                                                  본분  \\\n",
       "0  경상도\\n국내여행코스 울릉도 여행 둘째날 버스투어 A코스 관광\\n세상구경꾼 필 ・ ...   \n",
       "1  전라도\\n국내여행 무주 창고 대형 카페\\n비현 ・ 2024. 9. 21. 20:50...   \n",
       "2  충청도\\n10월 국내여행 가볼만한곳 충남 공주 부여 백제문화제\\n힌둥이 ・ 2024...   \n",
       "3  여행 기록\\n[국내여행] 나홀로 목포_해상케이블카 시간 팁!\\nLittle Fore...   \n",
       "4  여행가요♩\\n영주 반띵관광택시 로이쿠 지원할인 받아 국내여행 가볼만한곳\\n봉봉츄 ・...   \n",
       "5  전라도\\n롤리키드 캐리어 가격 착한 국내 여행가방\\n임정은 ・ 2024. 9. 3....   \n",
       "6  마인드셋\\n자산가를 위한 첫 걸음 - 경매 국내여행 시작\\n지여행 ・ 2024. 8...   \n",
       "\n",
       "                                                  본문  \n",
       "0  경상도\\n국내여행코스 울릉도 여행 둘째날 버스투어 A코스 관광\\n세상구경꾼 필 ・ ...  \n",
       "1  전라도\\n국내여행 무주 창고 대형 카페\\n비현 ・ 2024. 9. 21. 20:50...  \n",
       "2  충청도\\n10월 국내여행 가볼만한곳 충남 공주 부여 백제문화제\\n힌둥이 ・ 2024...  \n",
       "3  여행 기록\\n[국내여행] 나홀로 목포_해상케이블카 시간 팁!\\nLittle Fore...  \n",
       "4  여행가요♩\\n영주 반띵관광택시 로이쿠 지원할인 받아 국내여행 가볼만한곳\\n봉봉츄 ・...  \n",
       "5  전라도\\n롤리키드 캐리어 가격 착한 국내 여행가방\\n임정은 ・ 2024. 9. 3....  \n",
       "6  마인드셋\\n자산가를 위한 첫 걸음 - 경매 국내여행 시작\\n지여행 ・ 2024. 8...  "
      ]
     },
     "execution_count": 49,
     "metadata": {},
     "output_type": "execute_result"
    }
   ],
   "source": []
  },
  {
   "cell_type": "code",
   "execution_count": null,
   "metadata": {},
   "outputs": [],
   "source": []
  }
 ],
 "metadata": {
  "kernelspec": {
   "display_name": "Python (edu)",
   "language": "python",
   "name": "edu"
  },
  "language_info": {
   "codemirror_mode": {
    "name": "ipython",
    "version": 3
   },
   "file_extension": ".py",
   "mimetype": "text/x-python",
   "name": "python",
   "nbconvert_exporter": "python",
   "pygments_lexer": "ipython3",
   "version": "3.12.5"
  }
 },
 "nbformat": 4,
 "nbformat_minor": 2
}
