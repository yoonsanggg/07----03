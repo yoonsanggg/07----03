{
 "cells": [
  {
   "cell_type": "code",
   "execution_count": 2,
   "metadata": {},
   "outputs": [],
   "source": [
    "import time\n",
    "import random\n",
    "from selenium import webdriver\n",
    "from selenium.webdriver.chrome.options import Options\n",
    "from selenium.webdriver.chrome.service import Service\n",
    "from webdriver_manager.chrome import ChromeDriverManager\n",
    "from selenium.webdriver.common.keys import Keys\n",
    "from selenium.webdriver.common.by import By\n",
    "from bs4 import BeautifulSoup as bs\n",
    "import pandas as pd\n",
    "# from tqdm import tqdm\n",
    "import urllib.request\n",
    "import requests\n",
    "import os\n"
   ]
  },
  {
   "cell_type": "code",
   "execution_count": 7,
   "metadata": {},
   "outputs": [],
   "source": [
    "options=Options()\n",
    "options.add_experimental_option('detach',True) #화면이 꺼지지 않고 유지\n",
    "options.add_argument('--start-maximized') # 화면을 최대화\n",
    "service=Service(ChromeDriverManager().install())\n",
    "driver = webdriver.Chrome(service=service, options=options)\n",
    "url='https://flight.naver.com/'\n",
    "driver.get(url)\n",
    "\n",
    "# 편도 클릭\n",
    "def select_trip_type():\n",
    "    driver.find_element(By.XPATH,'//*[@id=\"__next\"]/div/main/div[2]/div/div/div[1]/button[2]').click()\n",
    "    time.sleep(1)  # import time\n",
    "\n",
    "#출발 클릭\n",
    "driver.find_element(By.XPATH,'//*[@id=\"__next\"]/div/main/div[2]/div/div/div[2]/div[1]/button[1]').click()\n",
    "\n",
    "\n",
    "time.sleep(1)  # import time\n",
    "#국내 클릭\n",
    "driver.find_element(By.XPATH,'//*[@id=\"__next\"]/div/main/div[8]/div[2]/section/section/button[1]').click()\n"
   ]
  },
  {
   "cell_type": "code",
   "execution_count": null,
   "metadata": {},
   "outputs": [],
   "source": []
  }
 ],
 "metadata": {
  "kernelspec": {
   "display_name": "Python (edu)",
   "language": "python",
   "name": "edu"
  },
  "language_info": {
   "codemirror_mode": {
    "name": "ipython",
    "version": 3
   },
   "file_extension": ".py",
   "mimetype": "text/x-python",
   "name": "python",
   "nbconvert_exporter": "python",
   "pygments_lexer": "ipython3",
   "version": "3.12.5"
  }
 },
 "nbformat": 4,
 "nbformat_minor": 2
}
