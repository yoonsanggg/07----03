{
 "cells": [
  {
   "cell_type": "code",
   "execution_count": 1,
   "id": "97209ea5",
   "metadata": {},
   "outputs": [],
   "source": [
    "import time\n",
    "from selenium import webdriver\n",
    "from selenium.webdriver.chrome.options import Options\n",
    "from selenium.webdriver.chrome.service import Service\n",
    "from webdriver_manager.chrome import ChromeDriverManager\n",
    "from selenium.webdriver.common.keys import Keys\n",
    "from selenium.webdriver.common.by import By\n",
    "from bs4 import BeautifulSoup as bs\n",
    "import pandas as pd\n",
    "\n",
    "options=Options()\n",
    "options.add_experimental_option('detach',True) #화면이 꺼지지 않고 유지\n",
    "options.add_argument('--start-maximized') # 화면을 최대화\n",
    "service=Service(ChromeDriverManager().install()) #크롬드라이버 자동 설치\n",
    "\n",
    "driver=webdriver.Chrome(service=service, options=options)\n",
    "\n",
    "url='https://flight.naver.com/'\n",
    "driver.get(url)\n",
    "\n",
    "time.sleep(3)\n",
    "driver.find_element(By.XPATH,'//*[@id=\"__next\"]/div/div[1]/div[9]/div/div[2]/button[2]').click()#팝업창 닫기\n",
    "driver.find_element(By.XPATH,'//*[@id=\"__next\"]/div/div[1]/div[4]/div/div/div[1]/button[2]/i').click() #편도 클릭\n",
    "time.sleep(1)\n",
    "#가는 곳\n",
    "driver.find_element(By.XPATH,'//*[@id=\"__next\"]/div/div[1]/div[4]/div/div/div[2]/div[1]/button[1]/b').click()\n",
    "time.sleep(1)\n",
    "driver.find_element(By.XPATH,'//*[@id=\"__next\"]/div/div[1]/div[9]/div[1]/div/input').send_keys('서울')\n",
    "time.sleep(1)\n",
    "driver.find_element(By.XPATH,'//*[@id=\"__next\"]/div/div[1]/div[9]/div[2]/section/div/a[1]/div').click()\n",
    "time.sleep(1)\n",
    "#도착\n",
    "driver.find_element(By.XPATH,'//*[@id=\"__next\"]/div/div[1]/div[4]/div/div/div[2]/div[1]/button[2]/b').click()\n",
    "time.sleep(1)\n",
    "\n",
    "driver.find_element(By.XPATH,'//*[@id=\"__next\"]/div/div[1]/div[9]/div[1]/div/input').send_keys('제주')\n",
    "time.sleep(1)\n",
    "\n",
    "driver.find_element(By.XPATH,'//*[@id=\"__next\"]/div/div[1]/div[9]/div[2]/section/div/a/div').click()\n",
    "time.sleep(1)\n",
    "\n",
    "#가는 날\n",
    "driver.find_element(By.XPATH,'//*[@id=\"__next\"]/div/div[1]/div[4]/div/div/div[2]/div[2]/button').click()\n",
    "time.sleep(1)\n",
    "#월 선택\n",
    "months=driver.find_elements(By.CLASS_NAME, 'month')\n",
    "\n",
    "#일 선택 (현재월(month[0]의 15일로 지정함)\n",
    "days=months[0].find_elements(By.CLASS_NAME,'num')\n",
    "days[28].click()\n",
    "time.sleep(1)\n",
    "\n",
    "#항공권 검색 버튼 클릭\n",
    "driver.find_element(By.XPATH,'//*[@id=\"__next\"]/div/div[1]/div[4]/div/div/button').click()\n",
    "time.sleep(20)\n",
    "\n",
    "\n",
    "#스크롤 내리기 이동 전 위치\n",
    "scroll_location = driver.execute_script(\"return document.body.scrollHeight\")\n",
    "\n",
    "while True:\n",
    "    #현재 스크롤의 가장 아래로 내림\n",
    "    driver.execute_script(\"window.scrollTo(0,document.body.scrollHeight)\")\n",
    "       \n",
    "    #전체 스크롤이 늘어날 때까지 대기\n",
    "    time.sleep(2)\n",
    "    \n",
    "    #늘어난 스크롤 높이\n",
    "    scroll_height = driver.execute_script(\"return document.body.scrollHeight\")\n",
    "\n",
    "    #늘어난 스크롤 위치와 이동 전 위치 같으면(더 이상 스크롤이 늘어나지 않으면) 종료\n",
    "    if scroll_location == scroll_height:\n",
    "        break\n",
    "        #같지 않으면 스크롤 위치 값을 수정하여 같아질 때까지 반복\n",
    "    else:\n",
    "        #스크롤 위치값을 수정\n",
    "        scroll_location = driver.execute_script(\"return document.body.scrollHeight\")\n",
    "\n",
    "\n",
    "html=driver.page_source\n",
    "soup=bs(html,'html.parser')\n",
    "\n",
    "driver.close()\n",
    "driver.quit()"
   ]
  },
  {
   "cell_type": "code",
   "execution_count": 2,
   "id": "2bb89407",
   "metadata": {},
   "outputs": [
    {
     "data": {
      "text/plain": [
       "247"
      ]
     },
     "execution_count": 2,
     "metadata": {},
     "output_type": "execute_result"
    }
   ],
   "source": [
    "soup_1=soup.find('div','domestic_results__yNAgI')\n",
    "len(soup_1.find_all('div','domestic_inner__15-bD'))"
   ]
  },
  {
   "cell_type": "code",
   "execution_count": null,
   "id": "214504a7",
   "metadata": {},
   "outputs": [],
   "source": []
  }
 ],
 "metadata": {
  "kernelspec": {
   "display_name": "Python 3 (ipykernel)",
   "language": "python",
   "name": "python3"
  },
  "language_info": {
   "codemirror_mode": {
    "name": "ipython",
    "version": 3
   },
   "file_extension": ".py",
   "mimetype": "text/x-python",
   "name": "python",
   "nbconvert_exporter": "python",
   "pygments_lexer": "ipython3",
   "version": "3.12.5"
  }
 },
 "nbformat": 4,
 "nbformat_minor": 5
}
