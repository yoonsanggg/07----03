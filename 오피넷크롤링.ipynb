{
 "cells": [
  {
   "cell_type": "code",
   "execution_count": 24,
   "metadata": {},
   "outputs": [],
   "source": [
    "import time\n",
    "import random\n",
    "from selenium import webdriver\n",
    "from selenium.webdriver.chrome.options import Options\n",
    "from selenium.webdriver.chrome.service import Service\n",
    "from webdriver_manager.chrome import ChromeDriverManager\n",
    "from selenium.webdriver.support.ui import WebDriverWait\n",
    "from selenium.webdriver.common.keys import Keys\n",
    "from selenium.webdriver.common.by import By\n",
    "from bs4 import BeautifulSoup as bs\n",
    "import pandas as pd\n",
    "# from tqdm import tqdm\n",
    "import urllib.request\n",
    "import requests\n",
    "import os"
   ]
  },
  {
   "cell_type": "code",
   "execution_count": 8,
   "metadata": {},
   "outputs": [],
   "source": [
    "options=Options()\n",
    "options.add_experimental_option('detach',True) #화면이 꺼지지 않고 유지\n",
    "options.add_argument('--start-maximized') # 화면을 최대화\n",
    "service=Service(ChromeDriverManager().install()) #크롬드라이버 자동 설치\n",
    "\n",
    "driver=webdriver.Chrome(service=service, options=options)\n",
    "url='https://www.opinet.co.kr/searRgSelect.do'\n",
    "driver.get(url)\n",
    "time.sleep(2)\n",
    "\n",
    "driver.find_element(By.XPATH,'//*[@id=\"SIGUNGU_NM0\"]').send_keys('강남구')\n",
    "time.sleep(1)\n",
    "driver.find_element(By.XPATH,'//*[@id=\"searRgSelect\"]').click()\n",
    "time.sleep(1)\n",
    "driver.find_element(By.XPATH,'//*[@id=\"templ_list0\"]/div[7]/div/a').click()\n",
    "time.sleep(1)\n",
    "\n"
   ]
  },
  {
   "cell_type": "code",
   "execution_count": 23,
   "metadata": {},
   "outputs": [
    {
     "ename": "UnexpectedAlertPresentException",
     "evalue": "Alert Text: 시군구를 선택하여주세요\nMessage: unexpected alert open: {Alert text : 시군구를 선택하여주세요}\n  (Session info: chrome=129.0.6668.90)\nStacktrace:\n\tGetHandleVerifier [0x00615523+24195]\n\t(No symbol) [0x005AAA04]\n\t(No symbol) [0x004A2093]\n\t(No symbol) [0x00525B66]\n\t(No symbol) [0x0050A8D6]\n\t(No symbol) [0x004DBA27]\n\t(No symbol) [0x004DC43D]\n\tGetHandleVerifier [0x008DCE13+2938739]\n\tGetHandleVerifier [0x0092EC69+3274185]\n\tGetHandleVerifier [0x006A09C2+594722]\n\tGetHandleVerifier [0x006A7EDC+624700]\n\t(No symbol) [0x005B37CD]\n\t(No symbol) [0x005B0528]\n\t(No symbol) [0x005B06C5]\n\t(No symbol) [0x005A2CA6]\n\tBaseThreadInitThunk [0x7636FCC9+25]\n\tRtlGetAppContainerNamedObjectPath [0x774980CE+286]\n\tRtlGetAppContainerNamedObjectPath [0x7749809E+238]\n",
     "output_type": "error",
     "traceback": [
      "\u001b[1;31m---------------------------------------------------------------------------\u001b[0m",
      "\u001b[1;31mUnexpectedAlertPresentException\u001b[0m           Traceback (most recent call last)",
      "Cell \u001b[1;32mIn[23], line 14\u001b[0m\n\u001b[0;32m     12\u001b[0m \u001b[38;5;28;01mfor\u001b[39;00m i \u001b[38;5;129;01min\u001b[39;00m 시도_value:\n\u001b[0;32m     13\u001b[0m     time\u001b[38;5;241m.\u001b[39msleep(\u001b[38;5;241m1\u001b[39m)\n\u001b[1;32m---> 14\u001b[0m     driver\u001b[38;5;241m.\u001b[39mfind_element(By\u001b[38;5;241m.\u001b[39mXPATH,\u001b[38;5;124m'\u001b[39m\u001b[38;5;124m//*[@id=\u001b[39m\u001b[38;5;124m\"\u001b[39m\u001b[38;5;124mSIDO_NM0\u001b[39m\u001b[38;5;124m\"\u001b[39m\u001b[38;5;124m]\u001b[39m\u001b[38;5;124m'\u001b[39m)\u001b[38;5;241m.\u001b[39msend_keys(i)\n\u001b[0;32m     15\u001b[0m     time\u001b[38;5;241m.\u001b[39msleep(\u001b[38;5;241m1\u001b[39m)\n\u001b[0;32m     16\u001b[0m     driver\u001b[38;5;241m.\u001b[39mfind_element(By\u001b[38;5;241m.\u001b[39mXPATH,\u001b[38;5;124m'\u001b[39m\u001b[38;5;124m//*[@id=\u001b[39m\u001b[38;5;124m\"\u001b[39m\u001b[38;5;124msearRgSelect\u001b[39m\u001b[38;5;124m\"\u001b[39m\u001b[38;5;124m]\u001b[39m\u001b[38;5;124m'\u001b[39m)\u001b[38;5;241m.\u001b[39mclick()\n",
      "File \u001b[1;32mc:\\Users\\human\\.conda\\envs\\edu\\Lib\\site-packages\\selenium\\webdriver\\remote\\webdriver.py:748\u001b[0m, in \u001b[0;36mWebDriver.find_element\u001b[1;34m(self, by, value)\u001b[0m\n\u001b[0;32m    745\u001b[0m     by \u001b[38;5;241m=\u001b[39m By\u001b[38;5;241m.\u001b[39mCSS_SELECTOR\n\u001b[0;32m    746\u001b[0m     value \u001b[38;5;241m=\u001b[39m \u001b[38;5;124mf\u001b[39m\u001b[38;5;124m'\u001b[39m\u001b[38;5;124m[name=\u001b[39m\u001b[38;5;124m\"\u001b[39m\u001b[38;5;132;01m{\u001b[39;00mvalue\u001b[38;5;132;01m}\u001b[39;00m\u001b[38;5;124m\"\u001b[39m\u001b[38;5;124m]\u001b[39m\u001b[38;5;124m'\u001b[39m\n\u001b[1;32m--> 748\u001b[0m \u001b[38;5;28;01mreturn\u001b[39;00m \u001b[38;5;28mself\u001b[39m\u001b[38;5;241m.\u001b[39mexecute(Command\u001b[38;5;241m.\u001b[39mFIND_ELEMENT, {\u001b[38;5;124m\"\u001b[39m\u001b[38;5;124musing\u001b[39m\u001b[38;5;124m\"\u001b[39m: by, \u001b[38;5;124m\"\u001b[39m\u001b[38;5;124mvalue\u001b[39m\u001b[38;5;124m\"\u001b[39m: value})[\u001b[38;5;124m\"\u001b[39m\u001b[38;5;124mvalue\u001b[39m\u001b[38;5;124m\"\u001b[39m]\n",
      "File \u001b[1;32mc:\\Users\\human\\.conda\\envs\\edu\\Lib\\site-packages\\selenium\\webdriver\\remote\\webdriver.py:354\u001b[0m, in \u001b[0;36mWebDriver.execute\u001b[1;34m(self, driver_command, params)\u001b[0m\n\u001b[0;32m    352\u001b[0m response \u001b[38;5;241m=\u001b[39m \u001b[38;5;28mself\u001b[39m\u001b[38;5;241m.\u001b[39mcommand_executor\u001b[38;5;241m.\u001b[39mexecute(driver_command, params)\n\u001b[0;32m    353\u001b[0m \u001b[38;5;28;01mif\u001b[39;00m response:\n\u001b[1;32m--> 354\u001b[0m     \u001b[38;5;28mself\u001b[39m\u001b[38;5;241m.\u001b[39merror_handler\u001b[38;5;241m.\u001b[39mcheck_response(response)\n\u001b[0;32m    355\u001b[0m     response[\u001b[38;5;124m\"\u001b[39m\u001b[38;5;124mvalue\u001b[39m\u001b[38;5;124m\"\u001b[39m] \u001b[38;5;241m=\u001b[39m \u001b[38;5;28mself\u001b[39m\u001b[38;5;241m.\u001b[39m_unwrap_value(response\u001b[38;5;241m.\u001b[39mget(\u001b[38;5;124m\"\u001b[39m\u001b[38;5;124mvalue\u001b[39m\u001b[38;5;124m\"\u001b[39m, \u001b[38;5;28;01mNone\u001b[39;00m))\n\u001b[0;32m    356\u001b[0m     \u001b[38;5;28;01mreturn\u001b[39;00m response\n",
      "File \u001b[1;32mc:\\Users\\human\\.conda\\envs\\edu\\Lib\\site-packages\\selenium\\webdriver\\remote\\errorhandler.py:228\u001b[0m, in \u001b[0;36mErrorHandler.check_response\u001b[1;34m(self, response)\u001b[0m\n\u001b[0;32m    226\u001b[0m     \u001b[38;5;28;01melif\u001b[39;00m \u001b[38;5;124m\"\u001b[39m\u001b[38;5;124malert\u001b[39m\u001b[38;5;124m\"\u001b[39m \u001b[38;5;129;01min\u001b[39;00m value:\n\u001b[0;32m    227\u001b[0m         alert_text \u001b[38;5;241m=\u001b[39m value[\u001b[38;5;124m\"\u001b[39m\u001b[38;5;124malert\u001b[39m\u001b[38;5;124m\"\u001b[39m]\u001b[38;5;241m.\u001b[39mget(\u001b[38;5;124m\"\u001b[39m\u001b[38;5;124mtext\u001b[39m\u001b[38;5;124m\"\u001b[39m)\n\u001b[1;32m--> 228\u001b[0m     \u001b[38;5;28;01mraise\u001b[39;00m exception_class(message, screen, stacktrace, alert_text)  \u001b[38;5;66;03m# type: ignore[call-arg]  # mypy is not smart enough here\u001b[39;00m\n\u001b[0;32m    229\u001b[0m \u001b[38;5;28;01mraise\u001b[39;00m exception_class(message, screen, stacktrace)\n",
      "\u001b[1;31mUnexpectedAlertPresentException\u001b[0m: Alert Text: 시군구를 선택하여주세요\nMessage: unexpected alert open: {Alert text : 시군구를 선택하여주세요}\n  (Session info: chrome=129.0.6668.90)\nStacktrace:\n\tGetHandleVerifier [0x00615523+24195]\n\t(No symbol) [0x005AAA04]\n\t(No symbol) [0x004A2093]\n\t(No symbol) [0x00525B66]\n\t(No symbol) [0x0050A8D6]\n\t(No symbol) [0x004DBA27]\n\t(No symbol) [0x004DC43D]\n\tGetHandleVerifier [0x008DCE13+2938739]\n\tGetHandleVerifier [0x0092EC69+3274185]\n\tGetHandleVerifier [0x006A09C2+594722]\n\tGetHandleVerifier [0x006A7EDC+624700]\n\t(No symbol) [0x005B37CD]\n\t(No symbol) [0x005B0528]\n\t(No symbol) [0x005B06C5]\n\t(No symbol) [0x005A2CA6]\n\tBaseThreadInitThunk [0x7636FCC9+25]\n\tRtlGetAppContainerNamedObjectPath [0x774980CE+286]\n\tRtlGetAppContainerNamedObjectPath [0x7749809E+238]\n"
     ]
    }
   ],
   "source": [
    "\n",
    "options=Options()\n",
    "options.add_experimental_option('detach',True) #화면이 꺼지지 않고 유지\n",
    "options.add_argument('--start-maximized') # 화면을 최대화\n",
    "service=Service(ChromeDriverManager().install()) #크롬드라이버 자동 설치\n",
    "\n",
    "driver=webdriver.Chrome(service=service, options=options)\n",
    "url='https://www.opinet.co.kr/searRgSelect.do'\n",
    "driver.get(url)\n",
    "driver.implicitly_wait(10)\n",
    "시도_list =driver.find_elements(By.CSS_SELECTOR,'select#SIDO_NM0 option')\n",
    "시도_text=[i.text for i in 시도_list[1:]]\n",
    "for i in 시도_text:\n",
    "    driver.implicitly_wait(10)\n",
    "    driver.find_element(By.XPATH,'//*[@id=\"SIDO_NM0\"]').send_keys(i)\n",
    "    driver.implicitly_wait(10)\n",
    "    driver.find_element(By.XPATH,'//*[@id=\"searRgSelect\"]').click()\n",
    "\n"
   ]
  },
  {
   "cell_type": "code",
   "execution_count": 19,
   "metadata": {},
   "outputs": [
    {
     "ename": "ElementClickInterceptedException",
     "evalue": "Message: element click intercepted: Element <a class=\"btn_type6_ex_save\" href=\"javascript:fn_excel_download('os_btn');\" title=\"새창열림:엑셀저장\">...</a> is not clickable at point (287, 825). Other element would receive the click: <div id=\"mask\" style=\"width: 1263px; height: 951px;\"></div>\n  (Session info: chrome=129.0.6668.90)\nStacktrace:\n\tGetHandleVerifier [0x00615523+24195]\n\t(No symbol) [0x005AAA04]\n\t(No symbol) [0x004A2093]\n\t(No symbol) [0x004ECE37]\n\t(No symbol) [0x004EB239]\n\t(No symbol) [0x004E911B]\n\t(No symbol) [0x004E8724]\n\t(No symbol) [0x004DD4FD]\n\t(No symbol) [0x0050AB3C]\n\t(No symbol) [0x004DCFB4]\n\t(No symbol) [0x0050ADD4]\n\t(No symbol) [0x00525280]\n\t(No symbol) [0x0050A8D6]\n\t(No symbol) [0x004DBA27]\n\t(No symbol) [0x004DC43D]\n\tGetHandleVerifier [0x008DCE13+2938739]\n\tGetHandleVerifier [0x0092EC69+3274185]\n\tGetHandleVerifier [0x006A09C2+594722]\n\tGetHandleVerifier [0x006A7EDC+624700]\n\t(No symbol) [0x005B37CD]\n\t(No symbol) [0x005B0528]\n\t(No symbol) [0x005B06C5]\n\t(No symbol) [0x005A2CA6]\n\tBaseThreadInitThunk [0x7636FCC9+25]\n\tRtlGetAppContainerNamedObjectPath [0x774980CE+286]\n\tRtlGetAppContainerNamedObjectPath [0x7749809E+238]\n",
     "output_type": "error",
     "traceback": [
      "\u001b[1;31m---------------------------------------------------------------------------\u001b[0m",
      "\u001b[1;31mElementClickInterceptedException\u001b[0m          Traceback (most recent call last)",
      "Cell \u001b[1;32mIn[19], line 17\u001b[0m\n\u001b[0;32m     15\u001b[0m driver\u001b[38;5;241m.\u001b[39mfind_element(By\u001b[38;5;241m.\u001b[39mXPATH,\u001b[38;5;124m'\u001b[39m\u001b[38;5;124m//*[@id=\u001b[39m\u001b[38;5;124m\"\u001b[39m\u001b[38;5;124msearRgSelect\u001b[39m\u001b[38;5;124m\"\u001b[39m\u001b[38;5;124m]\u001b[39m\u001b[38;5;124m'\u001b[39m)\u001b[38;5;241m.\u001b[39mclick()\n\u001b[0;32m     16\u001b[0m time\u001b[38;5;241m.\u001b[39msleep(\u001b[38;5;241m1\u001b[39m)\n\u001b[1;32m---> 17\u001b[0m driver\u001b[38;5;241m.\u001b[39mfind_element(By\u001b[38;5;241m.\u001b[39mXPATH,\u001b[38;5;124m'\u001b[39m\u001b[38;5;124m//*[@id=\u001b[39m\u001b[38;5;124m\"\u001b[39m\u001b[38;5;124mtempl_list0\u001b[39m\u001b[38;5;124m\"\u001b[39m\u001b[38;5;124m]/div[7]/div/a\u001b[39m\u001b[38;5;124m'\u001b[39m)\u001b[38;5;241m.\u001b[39mclick()\n\u001b[0;32m     18\u001b[0m time\u001b[38;5;241m.\u001b[39msleep(\u001b[38;5;241m1\u001b[39m)\n",
      "File \u001b[1;32mc:\\Users\\human\\.conda\\envs\\edu\\Lib\\site-packages\\selenium\\webdriver\\remote\\webelement.py:94\u001b[0m, in \u001b[0;36mWebElement.click\u001b[1;34m(self)\u001b[0m\n\u001b[0;32m     92\u001b[0m \u001b[38;5;28;01mdef\u001b[39;00m \u001b[38;5;21mclick\u001b[39m(\u001b[38;5;28mself\u001b[39m) \u001b[38;5;241m-\u001b[39m\u001b[38;5;241m>\u001b[39m \u001b[38;5;28;01mNone\u001b[39;00m:\n\u001b[0;32m     93\u001b[0m \u001b[38;5;250m    \u001b[39m\u001b[38;5;124;03m\"\"\"Clicks the element.\"\"\"\u001b[39;00m\n\u001b[1;32m---> 94\u001b[0m     \u001b[38;5;28mself\u001b[39m\u001b[38;5;241m.\u001b[39m_execute(Command\u001b[38;5;241m.\u001b[39mCLICK_ELEMENT)\n",
      "File \u001b[1;32mc:\\Users\\human\\.conda\\envs\\edu\\Lib\\site-packages\\selenium\\webdriver\\remote\\webelement.py:395\u001b[0m, in \u001b[0;36mWebElement._execute\u001b[1;34m(self, command, params)\u001b[0m\n\u001b[0;32m    393\u001b[0m     params \u001b[38;5;241m=\u001b[39m {}\n\u001b[0;32m    394\u001b[0m params[\u001b[38;5;124m\"\u001b[39m\u001b[38;5;124mid\u001b[39m\u001b[38;5;124m\"\u001b[39m] \u001b[38;5;241m=\u001b[39m \u001b[38;5;28mself\u001b[39m\u001b[38;5;241m.\u001b[39m_id\n\u001b[1;32m--> 395\u001b[0m \u001b[38;5;28;01mreturn\u001b[39;00m \u001b[38;5;28mself\u001b[39m\u001b[38;5;241m.\u001b[39m_parent\u001b[38;5;241m.\u001b[39mexecute(command, params)\n",
      "File \u001b[1;32mc:\\Users\\human\\.conda\\envs\\edu\\Lib\\site-packages\\selenium\\webdriver\\remote\\webdriver.py:354\u001b[0m, in \u001b[0;36mWebDriver.execute\u001b[1;34m(self, driver_command, params)\u001b[0m\n\u001b[0;32m    352\u001b[0m response \u001b[38;5;241m=\u001b[39m \u001b[38;5;28mself\u001b[39m\u001b[38;5;241m.\u001b[39mcommand_executor\u001b[38;5;241m.\u001b[39mexecute(driver_command, params)\n\u001b[0;32m    353\u001b[0m \u001b[38;5;28;01mif\u001b[39;00m response:\n\u001b[1;32m--> 354\u001b[0m     \u001b[38;5;28mself\u001b[39m\u001b[38;5;241m.\u001b[39merror_handler\u001b[38;5;241m.\u001b[39mcheck_response(response)\n\u001b[0;32m    355\u001b[0m     response[\u001b[38;5;124m\"\u001b[39m\u001b[38;5;124mvalue\u001b[39m\u001b[38;5;124m\"\u001b[39m] \u001b[38;5;241m=\u001b[39m \u001b[38;5;28mself\u001b[39m\u001b[38;5;241m.\u001b[39m_unwrap_value(response\u001b[38;5;241m.\u001b[39mget(\u001b[38;5;124m\"\u001b[39m\u001b[38;5;124mvalue\u001b[39m\u001b[38;5;124m\"\u001b[39m, \u001b[38;5;28;01mNone\u001b[39;00m))\n\u001b[0;32m    356\u001b[0m     \u001b[38;5;28;01mreturn\u001b[39;00m response\n",
      "File \u001b[1;32mc:\\Users\\human\\.conda\\envs\\edu\\Lib\\site-packages\\selenium\\webdriver\\remote\\errorhandler.py:229\u001b[0m, in \u001b[0;36mErrorHandler.check_response\u001b[1;34m(self, response)\u001b[0m\n\u001b[0;32m    227\u001b[0m         alert_text \u001b[38;5;241m=\u001b[39m value[\u001b[38;5;124m\"\u001b[39m\u001b[38;5;124malert\u001b[39m\u001b[38;5;124m\"\u001b[39m]\u001b[38;5;241m.\u001b[39mget(\u001b[38;5;124m\"\u001b[39m\u001b[38;5;124mtext\u001b[39m\u001b[38;5;124m\"\u001b[39m)\n\u001b[0;32m    228\u001b[0m     \u001b[38;5;28;01mraise\u001b[39;00m exception_class(message, screen, stacktrace, alert_text)  \u001b[38;5;66;03m# type: ignore[call-arg]  # mypy is not smart enough here\u001b[39;00m\n\u001b[1;32m--> 229\u001b[0m \u001b[38;5;28;01mraise\u001b[39;00m exception_class(message, screen, stacktrace)\n",
      "\u001b[1;31mElementClickInterceptedException\u001b[0m: Message: element click intercepted: Element <a class=\"btn_type6_ex_save\" href=\"javascript:fn_excel_download('os_btn');\" title=\"새창열림:엑셀저장\">...</a> is not clickable at point (287, 825). Other element would receive the click: <div id=\"mask\" style=\"width: 1263px; height: 951px;\"></div>\n  (Session info: chrome=129.0.6668.90)\nStacktrace:\n\tGetHandleVerifier [0x00615523+24195]\n\t(No symbol) [0x005AAA04]\n\t(No symbol) [0x004A2093]\n\t(No symbol) [0x004ECE37]\n\t(No symbol) [0x004EB239]\n\t(No symbol) [0x004E911B]\n\t(No symbol) [0x004E8724]\n\t(No symbol) [0x004DD4FD]\n\t(No symbol) [0x0050AB3C]\n\t(No symbol) [0x004DCFB4]\n\t(No symbol) [0x0050ADD4]\n\t(No symbol) [0x00525280]\n\t(No symbol) [0x0050A8D6]\n\t(No symbol) [0x004DBA27]\n\t(No symbol) [0x004DC43D]\n\tGetHandleVerifier [0x008DCE13+2938739]\n\tGetHandleVerifier [0x0092EC69+3274185]\n\tGetHandleVerifier [0x006A09C2+594722]\n\tGetHandleVerifier [0x006A7EDC+624700]\n\t(No symbol) [0x005B37CD]\n\t(No symbol) [0x005B0528]\n\t(No symbol) [0x005B06C5]\n\t(No symbol) [0x005A2CA6]\n\tBaseThreadInitThunk [0x7636FCC9+25]\n\tRtlGetAppContainerNamedObjectPath [0x774980CE+286]\n\tRtlGetAppContainerNamedObjectPath [0x7749809E+238]\n"
     ]
    }
   ],
   "source": [
    "options=Options()\n",
    "options.add_experimental_option('detach',True) #화면이 꺼지지 않고 유지\n",
    "options.add_argument('--start-maximized') # 화면을 최대화\n",
    "service=Service(ChromeDriverManager().install()) #크롬드라이버 자동 설치\n",
    "\n",
    "driver=webdriver.Chrome(service=service, options=options)\n",
    "url='https://www.opinet.co.kr/searRgSelect.do'\n",
    "driver.get(url)\n",
    "time.sleep(2)\n",
    "def 시군구():\n",
    "    gu_list = driver.find_elements(By.CSS_SELECTOR,'select#SIGUNGU_NM0>option')\n",
    "    gu_text = [i.text for i in gu_list[1:]]\n",
    "    for i in gu_text:\n",
    "        driver.find_element(By.XPATH,'//*[@id=\"SIGUNGU_NM0\"]').send_keys(i)\n",
    "        driver.implicitly_wait(10)\n",
    "        driver.find_element(By.XPATH,'//*[@id=\"searRgSelect\"]').click()\n",
    "        driver.implicitly_wait(10)\n",
    "        driver.find_element(By.XPATH,'//*[@id=\"templ_list0\"]/div[7]/div/a').click()\n",
    "        driver.implicitly_wait(10)\n",
    "\n",
    "        \n"
   ]
  },
  {
   "cell_type": "code",
   "execution_count": 42,
   "metadata": {},
   "outputs": [
    {
     "ename": "SyntaxError",
     "evalue": "incomplete input (3294575756.py, line 33)",
     "output_type": "error",
     "traceback": [
      "\u001b[1;36m  Cell \u001b[1;32mIn[42], line 33\u001b[1;36m\u001b[0m\n\u001b[1;33m    \u001b[0m\n\u001b[1;37m    ^\u001b[0m\n\u001b[1;31mSyntaxError\u001b[0m\u001b[1;31m:\u001b[0m incomplete input\n"
     ]
    }
   ],
   "source": [
    "options=Options()\n",
    "options.add_experimental_option('detach',True) #화면이 꺼지지 않고 유지\n",
    "options.add_argument('--start-maximized') # 화면을 최대화\n",
    "service=Service(ChromeDriverManager().install()) #크롬드라이버 자동 설치\n",
    "driver=webdriver.Chrome(service=service, options=options)\n",
    "\n",
    "url='https://www.opinet.co.kr/searRgSelect.do'\n",
    "driver.get(url)\n",
    "driver.implicitly_wait(10)\n",
    "def 시도():\n",
    "    시도_list =driver.find_elements(By.CSS_SELECTOR,'select#SIDO_NM0 option')\n",
    "    시도_text=[i.text for i in 시도_list[1:]]\n",
    "    return 시도_text    \n",
    "\n",
    "시도()\n",
    "\n",
    "def 구(시_이름):\n",
    "    driver.find_element(By.XPATH,'//*[@id=\"SIGUNGU_NM0\"]').send_keys(시_이름)\n",
    "    driver.implicitly_wait(10)\n",
    "    gu_list = driver.find_elements(By.CSS_SELECTOR,'select#SIGUNGU_NM0>option')\n",
    "    gu_text = [i.text for i in gu_list[1:]]\n",
    "    for i in gu_text:\n",
    "        driver.find_element(By.XPATH,'//*[@id=\"SIGUNGU_NM0\"]').send_keys(i)\n",
    "        driver.implicitly_wait(10)\n",
    "        driver.find_element(By.XPATH,'//*[@id=\"templ_list0\"]/div[7]/div/a').click()\n",
    "\n",
    "\n",
    "\n",
    "for i in 시도_text:\n",
    "    driver.implicitly_wait(10)\n",
    "    driver.find_element(By.XPATH,'//*[@id=\"SIDO_NM0\"]').send_keys(i)\n",
    "    driver.implicitly_wait(10)\n",
    "\n",
    "\n",
    "\n"
   ]
  },
  {
   "cell_type": "code",
   "execution_count": null,
   "metadata": {},
   "outputs": [],
   "source": []
  }
 ],
 "metadata": {
  "kernelspec": {
   "display_name": "Python (edu)",
   "language": "python",
   "name": "edu"
  },
  "language_info": {
   "codemirror_mode": {
    "name": "ipython",
    "version": 3
   },
   "file_extension": ".py",
   "mimetype": "text/x-python",
   "name": "python",
   "nbconvert_exporter": "python",
   "pygments_lexer": "ipython3",
   "version": "3.12.5"
  }
 },
 "nbformat": 4,
 "nbformat_minor": 2
}
